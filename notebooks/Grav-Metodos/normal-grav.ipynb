{
 "cells": [
  {
   "cell_type": "markdown",
   "metadata": {},
   "source": [
    "# Gravidade Normal"
   ]
  },
  {
   "cell_type": "markdown",
   "metadata": {},
   "source": [
    "## Conteúdo\n",
    "\n",
    "### Física da Terra\n",
    "\n",
    "#### Resumo teórico Gravidade normal\n",
    "Conceito de Gravidade normal\n",
    "\n"
   ]
  },
  {
   "cell_type": "markdown",
   "metadata": {},
   "source": [
    "### A gravidade normal\n",
    "\n",
    "\n",
    "A direção da gravidade em um ponto é definida como perpendicular à superfície equipotencial através do ponto. Isso define a vertical no ponto, enquanto o plano tangencial à superfície equipotencial define a horizontal (Figura abaixo). Uma consequência da forma esferoidal da Terra é que a direção vertical geralmente não é radial, exceto no equador e nos polos.\n",
    "\n",
    "<img src=\"./images/elipse.png\" width=\"400\" height=\"200\">\n"
   ]
  },
  {
   "cell_type": "markdown",
   "metadata": {},
   "source": [
    "Em uma Terra esférica, não há ambiguidade na forma como definimos a latitude. É o ângulo no centro da Terra entre o raio e o equador, o complemento ao ângulo polar $\\theta$. Isso define a latitude geocêntrica $\\lambda '$. No entanto, a latitude geográfica em uso comum não é definida dessa maneira. É encontrada pela medição geodésica do ângulo de elevação de uma estrela fixa acima do horizonte. Mas o plano horizontal é tangencial ao elipsóide, não a uma esfera (Figura anterior), e a direção vertical (isto é, a direção local da gravidade) intercepta o equador em um ângulo $\\lambda$  que é ligeiramente maior que a latitude geocêntrica  (Figura abaixo). A diferença $(\\lambda-\\lambda')$ é zero no equador e nos polos e atinge um máximo numa latitude de $45^\\circ$ onde é apenas $0.19^\\circ$ (em torno de $12'$).\n",
    "\n",
    "<img src=\"./images/normal.png\" width=\"300\" height=\"100\">"
   ]
  },
  {
   "cell_type": "markdown",
   "metadata": {},
   "source": [
    "O elipsóide de Referência Internacional é a referência padronizada da figura da Terra. O valor teórico da gravidade no elipsóide rotativo pode ser calculada diferenciando o potencial de gravidade a partir da equação\n",
    "\n",
    "\\begin{equation}\n",
    "U_{\\mathrm{g}}=U_{\\mathrm{G}}-\\frac{1}{2} \\omega^{2} r^{2} \\sin ^{2} \\theta\n",
    "\\end{equation}\n",
    "\n",
    "Este produz os componentes radiais e transversais da gravidade, que são então combinados para dar a seguinte fórmula para a gravidade normal ao elipsóide:\n",
    "\n",
    "\\begin{equation}\n",
    "g_{\\mathrm{n}}=g_{\\mathrm{e}}\\left(1+\\beta_{1} \\sin ^{2} \\lambda+\\beta_{2} \\sin ^{2} 2 \\lambda\\right)\n",
    "\\end{equation}\n",
    "\n",
    "onde, para a segunda ordem em $𝑓$ e $𝑚$,\n",
    "\n",
    "\n",
    "\\begin{split}\\begin{align}\n",
    "g_{\\mathrm{n}}&=g_{\\mathrm{e}}\\left(1+f-\\frac{3}{2} m+f^{2}-\\frac{27}{14} f \\mathrm{m}\\right) \\nonumber \\\\\n",
    "\\beta_{1} &=\\frac{5}{2} m-f+\\frac{15}{4} m^{2}-\\frac{17}{14} \\mathrm{fm} \\nonumber \\\\\n",
    "\\beta_{2} &=\\frac{1}{8} f^{2}-\\frac{5}{8} \\mathrm{fm} \\nonumber\n",
    "\\end{align}\\end{split}"
   ]
  },
  {
   "cell_type": "markdown",
   "metadata": {},
   "source": [
    "### Exercício\n",
    "\n",
    "Considerando \n",
    "$$g_n = g_e (1+\\beta_1 \\sin^2(\\lambda) + \\beta_2\\sin^2(2\\lambda))$$ \n",
    "onde\n",
    "\n",
    "$g_e = 9.780327~\\mathrm{m s^{-2}} = 978,032.7~\\mathrm{mgal} $; \n",
    "\n",
    "$\\beta_1 = 5.30244\\times 10^{-3}$;\n",
    "\n",
    "$\\beta_2 = -5.8 \\times 10^{-6}$.\n",
    "\n",
    "Assim, $g_e\\beta_1 = 5186~\\mathrm{mgal}$, $g_e\\beta_2 = -5.67~\\mathrm{mgal}$\n",
    "\n",
    "Diferenciando em relação a $\\lambda$:\n",
    "\n",
    "\\begin{equation}\n",
    "\\frac{dg_n}{d\\lambda} = g_e \\beta_1\\sin{2\\lambda} + 2g_e\\beta_2 \\sin{4\\lambda}\n",
    "\\end{equation}\n",
    "\n",
    "Esta expressão dá a variação da gravidade em $\\mathrm{m s^{-2}}$ com a latitude, onde a latitude está em radianos. Para converter deslocamento em kilometros de norte a sul $(s)$ usamos a relação $s=(R \\lambda)$, onde $R$ é o raio da Terra. \n",
    "\n",
    "\n",
    "\\begin{equation}\n",
    "\\frac{dg_n}{ds} = \\frac{1}{R} \\beta_1\\sin{2\\lambda} + 2g_e\\beta_2 \\sin{4\\lambda}\n",
    "\\end{equation}\n",
    "\n",
    "Inserindo valores numéricos para os parâmetros na equação, com $R=6371~\\mathrm{km}$, teremos\n",
    "\n",
    "\n",
    "\\begin{align}\n",
    "    \\frac{dg_n}{ds} & = \\frac{1}{6371}(5186)\\sin{2\\lambda} + 2 (-5.67) \\sin{4\\lambda}\\\\\n",
    "                    & = 0.8140\\sin{2\\lambda}- 0.0018\\sin{4\\lambda}.\n",
    "\\end{align}\n",
    "\n",
    "Calcule a variação da gravidade em miligal por quilômetro em direção ao norte en latitudes de $30^\\circ~\\mathrm{N}$, $45^\\circ~\\mathrm{N}$ e $60^\\circ~\\mathrm{N}$. Comente sua respota\n"
   ]
  },
  {
   "cell_type": "code",
   "execution_count": 1,
   "metadata": {},
   "outputs": [],
   "source": [
    "import numpy as np"
   ]
  },
  {
   "cell_type": "markdown",
   "metadata": {},
   "source": [
    "Exemplo de valores de seno"
   ]
  },
  {
   "cell_type": "code",
   "execution_count": 3,
   "metadata": {},
   "outputs": [
    {
     "name": "stdout",
     "output_type": "stream",
     "text": [
      "0.49999999999999994 0.7071067811865475 0.8660254037844386\n"
     ]
    }
   ],
   "source": [
    "a=np.sin(30*np.pi/180)\n",
    "b=np.sin(45*np.pi/180)\n",
    "c=np.sin(60*np.pi/180)\n",
    "\n",
    "print(a,b,c)"
   ]
  },
  {
   "cell_type": "markdown",
   "metadata": {},
   "source": [
    "#### <center>We love open source!</center>\n",
    "\n",
    "<center><a rel=\"license\" href=\"http://creativecommons.org/licenses/by/4.0/\"><img alt=\"Creative Commons License\" style=\"border-width:0\" width=60 src=\"https://i.creativecommons.org/l/by/4.0/88x31.png\" /></a> \n",
    "\n",
    "This work is licensed under a <a rel=\"license\" href=\"http://creativecommons.org/licenses/by/4.0/\">Creative Commons Attribution 4.0 International License</a>.</center>"
   ]
  }
 ],
 "metadata": {
  "anaconda-cloud": {},
  "kernelspec": {
   "display_name": "Python 3",
   "language": "python",
   "name": "python3"
  },
  "language_info": {
   "codemirror_mode": {
    "name": "ipython",
    "version": 3
   },
   "file_extension": ".py",
   "mimetype": "text/x-python",
   "name": "python",
   "nbconvert_exporter": "python",
   "pygments_lexer": "ipython3",
   "version": "3.8.8"
  }
 },
 "nbformat": 4,
 "nbformat_minor": 4
}
