{
 "cells": [
  {
   "cell_type": "markdown",
   "metadata": {},
   "source": [
    "# Acelaração gravitacional"
   ]
  },
  {
   "cell_type": "markdown",
   "metadata": {},
   "source": [
    "## Conteúdo\n",
    "\n",
    "### Física da Terra\n",
    "\n",
    "#### Gravitação\n",
    "Conceitos da Lei da Gravitação\n",
    "\n"
   ]
  },
  {
   "cell_type": "markdown",
   "metadata": {},
   "source": [
    "| Planeta | Massa M      | Massa    | Densidade               | Raio      | Período        |\n",
    "|         | $10^{24}$ kg | relativa | média                   | equatorial| de rotação     |\n",
    "|         |              | a Terra  | [$\\mathrm{km~m ^{-3}}$] |  [km]     | sideral [dias] |\n",
    "|---------|--------------|----------|-------------------------|-----------|----------------|\n"
   ]
  },
  {
   "cell_type": "markdown",
   "metadata": {},
   "source": [
    "<table>\n",
    "<tr>\n",
    "<th>Argument</th>\n",
    "<th>Description</th>\n",
    "</tr>\n",
    "<tr>\n",
    "<td>appDir</td>\n",
    "<td>The top level directory that contains your app. If this option is used then\n",
    "it assumed your scripts are in</td>\n",
    "</tr>\n",
    "<tr>\n",
    "<td>baseUrl</td>\n",
    "<td>By default, all modules are located relative to this path. If baseUrl is not\n",
    "explicitly set, then all modules are loaded relative to the directory that holds\n",
    "the build file. If appDir is set, then baseUrl should be specified as relative\n",
    "to the appDir.</td>\n",
    "</tr>\n",
    "<tr>\n",
    "<td>dir</td>\n",
    "<td>The directory path to save the output. If not specified, then the path will\n",
    "default to be a directory called \"build\" as a sibling to the build file. All\n",
    "relative paths are relative to the build file.</td>\n",
    "</tr>\n",
    "<tr>\n",
    "<td>modules</td>\n",
    "<td>List the modules that will be optimized. All their immediate and deep\n",
    "dependencies will be included in the module's file when the build is done. If\n",
    "that module or any of its dependencies includes i18n bundles, only the root\n",
    "bundles will be included unless the locale: section is set above.</td>\n",
    "</tr>\n",
    "</table>"
   ]
  },
  {
   "cell_type": "markdown",
   "metadata": {},
   "source": [
    "#### <center>We love open source!</center>\n",
    "\n",
    "<center><a rel=\"license\" href=\"http://creativecommons.org/licenses/by/4.0/\"><img alt=\"Creative Commons License\" style=\"border-width:0\" width=60 src=\"https://i.creativecommons.org/l/by/4.0/88x31.png\" /></a> \n",
    "\n",
    "This work is licensed under a <a rel=\"license\" href=\"http://creativecommons.org/licenses/by/4.0/\">Creative Commons Attribution 4.0 International License</a>.</center>"
   ]
  }
 ],
 "metadata": {
  "anaconda-cloud": {},
  "kernelspec": {
   "display_name": "Python 3",
   "language": "python",
   "name": "python3"
  },
  "language_info": {
   "codemirror_mode": {
    "name": "ipython",
    "version": 3
   },
   "file_extension": ".py",
   "mimetype": "text/x-python",
   "name": "python",
   "nbconvert_exporter": "python",
   "pygments_lexer": "ipython3",
   "version": "3.8.5"
  }
 },
 "nbformat": 4,
 "nbformat_minor": 1
}
