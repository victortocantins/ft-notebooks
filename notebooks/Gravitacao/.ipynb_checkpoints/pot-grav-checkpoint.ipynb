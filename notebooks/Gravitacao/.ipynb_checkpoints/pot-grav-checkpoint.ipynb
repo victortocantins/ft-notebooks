{
 "cells": [
  {
   "cell_type": "markdown",
   "metadata": {},
   "source": [
    "# Potencial gravitacional"
   ]
  },
  {
   "cell_type": "markdown",
   "metadata": {},
   "source": [
    "## Conteúdo\n",
    "\n",
    "### Física da Terra\n",
    "\n",
    "#### Resumo teórico Potencial Gravitacional\n",
    "Uso do potencial gravitacional\n",
    "\n"
   ]
  },
  {
   "cell_type": "markdown",
   "metadata": {},
   "source": [
    "### 1. Potencial Gravitacional para Terra Esferoidal\n",
    "\n",
    "\n",
    "A forma elipsoidal muda o potencial gravitacional da Terra de uma esfera não deformada. Em 1849, J. MacCullagh desenvolveu a seguinte fórmula para o potencial gravitacional de qualquer corpo a grande distância de seu centro de massa:\n",
    "\n",
    "\\begin{equation*}\n",
    "    U_{\\mathrm{G}}=-G \\frac{E}{r}-G \\frac{(A+B+C-3 I)}{2 r^{3}}-\\cdots \n",
    "    \\label{pot_MacCullagh}\\tag{1}\n",
    "\\end{equation*}\n",
    "\n",
    "<img src=\"./images/Fig_02.21.png\" width=\"400\" height=\"200\">\n",
    "\n",
    "O primeiro termo, de ordem $r^{-1}$, é o potencial gravitacional de um ponto de massa ou esfera com massa $E$; para a Terra ela descreve o potencial do globo não deformado. Se os eixos de referência estão centrados no centro de massa do corpo, não há termo em $r^{-2}$. O segundo termo, da ordem $r^{-3}$, é devido aos desvios da forma esférica. Para a Terra aplainada ela é resultante dos deslocamentos de massa devido à deformação rotacional. Os parâmetros $A$, $B$ e $C$ são os principais momentos de inércia do corpo e $I$ é o momento de inércia em torno da linha $OP$ que une o centro de massa ao ponto de observação Para expressar o potencial com precisão, é necessário um número infinito de termos de ordem superior em $r$. No caso da Terra, estes podem ser negligenciados, porque o próximo termo é cerca de 1000 vezes menor que o segundo termo.\n",
    "\n",
    "\n",
    "Para um corpo com planos de simetria, $I$ é uma simples combinação dos principais momentos de inércia. Configurando $A$ igual a $B$ para simetria rotacional, e definindo o ângulo entre $OP$ e o eixo de rotação sendo $\\theta$, a expressão para $I$ é\n",
    "\n",
    "\\begin{equation*}\n",
    "    I=A \\sin ^{2} \\theta+C \\cos ^{2} \\theta\n",
    "    \\label{eq:0221}\\tag{2}\n",
    "\\end{equation*}\n",
    "\n",
    "A fórmula de MacCullagh para a Terra elipsoidal então torna-se\n",
    "\n",
    "\\begin{equation*}\n",
    "    U_{\\mathrm{G}}=-G \\frac{E}{r}+G \\frac{(C-A)\\left(3 \\cos ^{2} \\theta - 1\\right)}{2 r^{3}}\n",
    "    \\label{eq:0222}\\tag{3}\n",
    "\\end{equation*}\n",
    "    \n",
    "    \n",
    "A função $\\left(3 \\cos ^{2} \\theta - 1\\right) / 2$ é um polinômio de segunda ordem em $\\cos\\theta$, e escrevemos como $P_2(\\cos\\theta)$. Ele pertence a uma família de funções chamadas de polinômios de Legendre. Usando esta notação a fórmula de MacCullagh para o potencial gravitacional do elipsoide oblato torna-se\n",
    "\n",
    "\\begin{equation*}\n",
    "    U_{G}=-G \\frac{E}{r}+G \\frac{(C-A)}{r^{3}} P_{2}(\\cos \\theta).\n",
    "    \\label{eq:0223}\\tag{4}\n",
    "\\end{equation*}\n",
    "\n",
    "Esta pode ser escrita na forma alternativa\n",
    "\n",
    "\\begin{equation*}\n",
    "    U_{\\mathrm{G}}=-G \\frac{E}{r}\\left(1-\\left(\\frac{C-A}{E R^{2}}\\right)\\left(\\frac{R}{r}\\right)^{2} P_{2}(\\cos \\theta)\\right).\n",
    "    \\label{eq:0224}\\tag{5}\n",
    "\\end{equation*}\n",
    "\n",
    "A Equação (5) é uma aproximação para o potencial de um elipsoide.\n"
   ]
  },
  {
   "cell_type": "markdown",
   "metadata": {},
   "source": [
    "#### <center>We love open source!</center>\n",
    "\n",
    "<center><a rel=\"license\" href=\"http://creativecommons.org/licenses/by/4.0/\"><img alt=\"Creative Commons License\" style=\"border-width:0\" width=60 src=\"https://i.creativecommons.org/l/by/4.0/88x31.png\" /></a> \n",
    "\n",
    "This work is licensed under a <a rel=\"license\" href=\"http://creativecommons.org/licenses/by/4.0/\">Creative Commons Attribution 4.0 International License</a>.</center>"
   ]
  }
 ],
 "metadata": {
  "anaconda-cloud": {},
  "kernelspec": {
   "display_name": "Python 3",
   "language": "python",
   "name": "python3"
  },
  "language_info": {
   "codemirror_mode": {
    "name": "ipython",
    "version": 3
   },
   "file_extension": ".py",
   "mimetype": "text/x-python",
   "name": "python",
   "nbconvert_exporter": "python",
   "pygments_lexer": "ipython3",
   "version": "3.8.8"
  }
 },
 "nbformat": 4,
 "nbformat_minor": 4
}
