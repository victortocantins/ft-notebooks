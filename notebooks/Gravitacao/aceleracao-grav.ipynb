{
 "cells": [
  {
   "cell_type": "markdown",
   "metadata": {},
   "source": [
    "# Acelaração gravitacional"
   ]
  },
  {
   "cell_type": "markdown",
   "metadata": {},
   "source": [
    "## Conteúdo\n",
    "\n",
    "### Física da Terra\n",
    "\n",
    "#### Resumo teórico de Gravitação\n",
    "Uso da Lei da Gravitação\n",
    "\n"
   ]
  },
  {
   "cell_type": "markdown",
   "metadata": {},
   "source": [
    "### 1. A Lei Universal da Gravitação\n",
    "\n",
    "Um corpo de massa $m$ em movimento possui um momento de inércia $(m\\mathbf{v})$. Para mudarmos este movimento é necessário aplicarmos uma força \n",
    "$\\mathbf{F}$ a este corpo. A segunda lei de movimento de Newton estabelece que a taxa de variação do momento de uma massa é proporcional a força que atua sobre ela, e acontece na direção da força. Para o caso de massas constantes esta lei serve como definição de força $\\mathbf{F}$ em termos da aceleração \n",
    "$(\\mathbf{a})$ dada e pela massa $(m)$:\n",
    "\n",
    "\\begin{equation*}\n",
    "    \\mathbf{F} = \\frac{d}{dt} (m\\mathbf{v}) = m \\frac{d\\mathbf{v}}{dt}= m \\mathbf{a}\n",
    "    \\label{newton_lei}\\tag{1}\n",
    "\\end{equation*}\n",
    "\n",
    "A unidade de força no sistema SI é o Newton (N). Ela é definida como sendo a força que dá a uma massa de um quilograma, uma aceleração de $1\\, \\mathrm{m}/\\mathrm{s}^2$.\n",
    "\n",
    "Nós conhecemos a célebre observação de Newton da maçã em queda, a qual ele relacionou com a atração gravitacional que a Terra exercia sobre a maçã. Entretanto, a genialidade de Newton foi reconhecer que o campo gravitacional que faz com que a maçã caia é a mesma que mantém a Lua em órbita em torno da Terra e que mantém os planetas girando ao redor do Sol. Newton deduziu que a atração gravitacional $\\mathbf{F}$ entre duas partículas de massas $m$ e $M$, separadas pela distância $r$, é proporcional ao produto destas massas e inversamente proporcional ao quadrado da distância entre elas:\n",
    "\n",
    "\\begin{equation*}\n",
    "    \\mathbf{F} = -G\\frac{m M}{r^2} \\hat{\\mathbf{r}}\n",
    "    \\label{grav_lei}\\tag{2}\n",
    "\\end{equation*}\n",
    "\n",
    "Onde $\\hat{\\mathbf{r}}$ é o vetor unitário na direção da coordenada $r$, direcionada para fora do centro de referência da massa $M$. O sinal negativo indica que a força $\\mathbf{F}$ age na direção oposta, em direção da massa $M$. A constante $G$ é denominada de Constante da Gravitação Universal."
   ]
  },
  {
   "cell_type": "markdown",
   "metadata": {},
   "source": [
    "### 2. Aceleração Gravitacional\n",
    "\n",
    "Na física, o campo de uma força é frequentemente mais importante que a magnitude absoluta da força. O campo é definido como a força exercida em uma unidade de material. Por exemplo, o campo elétrico de um corpo carregado em uma determinada posição é a força que ele exerce em uma unidade de carga elétrica naquele local. O **campo gravitacional** na vizinhança de uma massa de atração é a força que exerce sobre uma massa unitária. A Equação (1) mostra que isso é equivalente ao vetor de aceleração.\n",
    "\n",
    "Em aplicações geofísicas, estamos preocupados com acelerações, e não com forças. Comparando Equação {1) e Equação (2) obtemos a aceleração gravitacional $a_G$ da massa $m$ devido à atração da massa $M$\n",
    "\n",
    "\\begin{equation}\n",
    "    a_G = -G\\frac{M}{r^2} \\hat{\\mathbf{r}}.  \\label{acel_G} \\tag{3}\n",
    "\\end{equation}\n",
    "\n",
    "A unidade de aceleração do SI é o $(\\mathrm{m}\\mathrm{s}^{-2})$; esta unidade é impraticável para uso em geofísica. No agora superado sistema c.g.s.  a unidade de aceleração é de $(\\mathrm{cm}\\,\\mathrm{s}^{-2})$, que é chamado de gal em reconhecimento das contribuições de Galileo. As pequenas mudanças na aceleração da gravidade causadas pelas estruturas geológicas são medidas em milésimos desta unidade, ou seja, em miligramas (mgal). Até recentemente, anomalias de gravidade devido a estruturas geológicas foram pesquisadas com instrumentos de campo com precisão de cerca de um décimo de miligal, o que foi chamado de **unidade de gravidade**. Instrumentos modernos são capazes de medir diferenças de gravidade para um milionésimo de gal, ou microgal $(\\mu gal)$, que está se tornando a unidade prática de investigações de gravidade. O valor da gravidade na superfície da Terra é de cerca de $9.8\\, \\mathrm{m}\\mathrm{s}^{-2}$, e assim a sensibilidade das medições modernas da gravidade é de cerca de 1 parte em $10^9$."
   ]
  },
  {
   "cell_type": "markdown",
   "metadata": {},
   "source": [
    "### 3. A Constante Graviatcional"
   ]
  },
  {
   "cell_type": "markdown",
   "metadata": {},
   "source": [
    "A constante graviatcional é dado por $G=6,674210 \\times 10^{-11} \\mathrm{m}^3 \\mathrm{kg}^{-1}\\mathrm{s}^{-2}$.\n",
    "uma forma de acessar essa constante é importar um pacote da biblioteca pyhton, o chamado é feito da seguinte forma a seguir:"
   ]
  },
  {
   "cell_type": "code",
   "execution_count": 1,
   "metadata": {},
   "outputs": [],
   "source": [
    "from scipy.constants import G, g"
   ]
  },
  {
   "cell_type": "code",
   "execution_count": 2,
   "metadata": {},
   "outputs": [
    {
     "name": "stdout",
     "output_type": "stream",
     "text": [
      "6.6743e-11 9.80665\n"
     ]
    }
   ],
   "source": [
    "print(G,g)"
   ]
  },
  {
   "cell_type": "markdown",
   "metadata": {},
   "source": [
    "#### Tabela 1: Valores característico da massa, forma e órbita dos planetas e da Lua\n",
    "\n",
    "<table align=\"center\">\n",
    "<thead>\n",
    "        <tr><th>Planeta</th><th>Massa M<br>$10^{24}~\\mathrm{kg}$</th><th>Massa<br>relativa<br>a Terra<th>Densidade<br>média<br>[$\\mathrm{km~m ^{-3}}$]</th><th>Raio<br>equatorial<br>$[\\mathrm{km}]$</th>\n",
    "    <th>Período<br>de rotação<br> sideral<br> $\\mathrm{[dias]}$</th>\n",
    "    <th>Achatamento inverso<br>$f^{-1}= a/(a-c)$</th>\n",
    "    <th>Obliguidade do eixo<br> para orbita $(^\\circ)$</th>\n",
    "</thead>\n",
    "<tbody>\n",
    "<tr><td>Mercúrio</td><td>0.33011</td><td>0.0553</td><td>5427</td><td>2439.7</td><td>58.81</td><td> - </td><td>0.034</td></tr>\n",
    "<tr><td>Vênus</td><td>4.8675</td><td>0.815</td><td>5243</td><td>6051.8</td><td>243.7</td><td> - </td>\n",
    "<td>177.4</td></tr>\n",
    "<tr><td>Terra</td><td>5.9723</td><td>1.000</td><td>5514</td><td>6378.1</td><td>0.9973</td><td>298.253</td>\n",
    "<td>23.44</td></tr>\n",
    "<tr><td>Lua</td><td>0.07346</td><td>0.0123</td><td>3344</td><td>1738.1</td><td>27.32</td><td>827.67</td>\n",
    "<td>6.68</td></tr>\n",
    "<tr><td>Marte</td><td>0.64171</td><td>0.1074</td><td>3933</td><td>3396.2</td><td>1.0275</td><td>169.81</td>\n",
    "<td>25.19</td></tr>    \n",
    "<tr><td>Júpiter</td><td>1899.19</td><td>317.83</td><td>1326</td><td>71492</td><td>0.414</td><td>15.41</td>\n",
    "<td>3.13</td></tr>    \n",
    "<tr><td>Saturno</td><td>568.34</td><td>95.16</td><td>687</td><td>60268</td><td>0.444</td><td>10.21</td>\n",
    "<td>26.73</td></tr>\n",
    "<tr><td>Urano</td><td>86.813</td><td>14.54</td><td>1271</td><td>25559</td><td>0.718</td><td>43.62.54</td>\n",
    "<td>97.77</td></tr>\n",
    "<tr><td>Netuno</td><td>102.413</td><td>17.15</td><td>1638</td><td>24764</td><td>0.671</td><td>58.54</td>\n",
    "<td>28.32</td></tr>\n",
    "<tr><td>Plutão</td><td>0.01303</td><td>0.00218</td><td>1854</td><td>1187</td><td>6.387</td><td> - </td>\n",
    "<td>122.53</td></tr>    \n",
    "</tbody>\n",
    "</table>"
   ]
  },
  {
   "cell_type": "markdown",
   "metadata": {},
   "source": [
    "### Exercício\n",
    "1. Usando a tabela acima, calcule a aceleração gravitacional sobre as superfícies da Lua, Marte, Jupiter  e Vênus  como um percetual daquela da superfície da Terra."
   ]
  },
  {
   "cell_type": "markdown",
   "metadata": {},
   "source": [
    "**Solução:**\n",
    "\n",
    "O módulo da aceleração gravitacional é dados por\n",
    "\\begin{equation}\n",
    "    a_G = -G\\frac{M}{r^2}.\n",
    "\\end{equation}\n",
    "Para a Terra (Erath-e) podemos definir\n",
    "\\begin{equation}\n",
    "    g_e = -G\\frac{M_e}{r^2}. \\tag{1.1}\n",
    "\\end{equation}\n",
    "\n",
    "e para um planeta qualquer\n",
    "\n",
    "\\begin{equation}\n",
    "    g_p = -G\\frac{M_p}{r^2}. \\tag{1.2}\n",
    "\\end{equation}\n",
    "\n",
    "Dividindo  (1.2) por (1.1), teremos:\n",
    "\n",
    "\\begin{equation}\n",
    "    g_p = g_e \\frac{M_p}{M_e}. \\tag{1.3}\n",
    "\\end{equation}\n",
    "\n",
    "Anteriormente, vimos que a aceleração da gravidade na Terra é igual a $g_e=9.80665$, \n",
    "e que $\\frac{Mp}{M_e}$ representa a massa relativa do planeta $p$ em relação a Terra $e$, ou seja\n",
    "a coluna 2 da Tabela 1. Desse modo, complete os valores como no exemplo de Saturno a seguir"
   ]
  },
  {
   "cell_type": "markdown",
   "metadata": {},
   "source": [
    "a) Saturno"
   ]
  },
  {
   "cell_type": "code",
   "execution_count": 3,
   "metadata": {},
   "outputs": [
    {
     "name": "stdout",
     "output_type": "stream",
     "text": [
      "aceleração gravitacional em Saturno é:  933.2008139999999\n"
     ]
    }
   ],
   "source": [
    "a=g*95.16\n",
    "print('aceleração gravitacional em Saturno é: ',a)"
   ]
  },
  {
   "cell_type": "markdown",
   "metadata": {},
   "source": [
    "Digite seu nome: Fulano de Tal, matricula:000000"
   ]
  },
  {
   "cell_type": "markdown",
   "metadata": {},
   "source": [
    "#### <center>We love open source!</center>\n",
    "\n",
    "<center><a rel=\"license\" href=\"http://creativecommons.org/licenses/by/4.0/\"><img alt=\"Creative Commons License\" style=\"border-width:0\" width=60 src=\"https://i.creativecommons.org/l/by/4.0/88x31.png\" /></a> \n",
    "\n",
    "This work is licensed under a <a rel=\"license\" href=\"http://creativecommons.org/licenses/by/4.0/\">Creative Commons Attribution 4.0 International License</a>.</center>"
   ]
  }
 ],
 "metadata": {
  "anaconda-cloud": {},
  "kernelspec": {
   "display_name": "Python 3",
   "language": "python",
   "name": "python3"
  },
  "language_info": {
   "codemirror_mode": {
    "name": "ipython",
    "version": 3
   },
   "file_extension": ".py",
   "mimetype": "text/x-python",
   "name": "python",
   "nbconvert_exporter": "python",
   "pygments_lexer": "ipython3",
   "version": "3.8.8"
  }
 },
 "nbformat": 4,
 "nbformat_minor": 4
}
