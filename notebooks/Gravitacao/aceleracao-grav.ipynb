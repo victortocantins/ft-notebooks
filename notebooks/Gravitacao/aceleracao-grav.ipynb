{
 "cells": [
  {
   "cell_type": "markdown",
   "metadata": {},
   "source": [
    "# Acelaração gravitacional"
   ]
  },
  {
   "cell_type": "markdown",
   "metadata": {},
   "source": [
    "## Conteúdo\n",
    "\n",
    "### Física da Terra\n",
    "\n",
    "#### Gravitação\n",
    "Conceitos da Lei da Gravitação\n",
    "\n"
   ]
  },
  {
   "cell_type": "markdown",
   "metadata": {},
   "source": [
    "<table align=\"left\">\n",
    "<thead>\n",
    "        <tr><th>Planeta</th><th>Massa M<br>$10^{24}~\\mathrm{kg}$</th><th>Densidade<br>média<br>[$\\mathrm{km~m ^{-3}}$]</th><th>Raio<br>equatorial<br>$[\\mathrm{km}]$</th>\n",
    "    <th>Período<br>de rotação<br> sideral<br> $\\mathrm{[dias]}$</th>\n",
    "    <th>Achatamento inverso<br>$f^{-1}= a/(a-c)$</th>\n",
    "    <th>Obliguidade do eixo<br> para orbita $(^\\circ)$</th>\n",
    "</thead>\n",
    "<tbody>\n",
    "<tr><td>Mercúrio</td><td>B</td><td>C</td><td>D</td><td>E</td><td>F</td><td>G</td></tr>\n",
    "<tr><td>Vênus</td><td>B</td><td>C</td><td>D</td><td>E</td><td>F</td><td>G</td></tr>\n",
    "<tr><td>Terra</td><td>B</td><td>C</td><td>D</td><td>E</td><td>F</td><td>G</td></tr>\n",
    "<tr><td>Lua</td><td>B</td><td>C</td><td>D</td><td>E</td><td>F</td><td>G</td></tr>\n",
    "<tr><td>Marte</td><td>B</td><td>C</td><td>D</td><td>E</td><td>F</td><td>G</td></tr>    \n",
    "<tr><td>Júpiter</td><td>B</td><td>C</td><td>D</td><td>E</td><td>F</td><td>G</td></tr>    \n",
    "<tr><td>Saturno</td><td>B</td><td>C</td><td>D</td><td>E</td><td>F</td><td>G</td></tr>    \n",
    "<tr><td>Urano</td><td>B</td><td>C</td><td>D</td><td>E</td><td>F</td><td>G</td></tr>\n",
    "<tr><td>Netuno</td><td>B</td><td>C</td><td>D</td><td>E</td><td>F</td><td>G</td></tr>\n",
    "<tr><td>Plutão</td><td>B</td><td>C</td><td>D</td><td>E</td><td>F</td><td>G</td></tr>    \n",
    "</tbody>\n",
    "</table>"
   ]
  },
  {
   "cell_type": "code",
   "execution_count": null,
   "metadata": {},
   "outputs": [],
   "source": []
  },
  {
   "cell_type": "markdown",
   "metadata": {},
   "source": [
    "#### <center>We love open source!</center>\n",
    "\n",
    "<center><a rel=\"license\" href=\"http://creativecommons.org/licenses/by/4.0/\"><img alt=\"Creative Commons License\" style=\"border-width:0\" width=60 src=\"https://i.creativecommons.org/l/by/4.0/88x31.png\" /></a> \n",
    "\n",
    "This work is licensed under a <a rel=\"license\" href=\"http://creativecommons.org/licenses/by/4.0/\">Creative Commons Attribution 4.0 International License</a>.</center>"
   ]
  }
 ],
 "metadata": {
  "anaconda-cloud": {},
  "kernelspec": {
   "display_name": "Python 3",
   "language": "python",
   "name": "python3"
  },
  "language_info": {
   "codemirror_mode": {
    "name": "ipython",
    "version": 3
   },
   "file_extension": ".py",
   "mimetype": "text/x-python",
   "name": "python",
   "nbconvert_exporter": "python",
   "pygments_lexer": "ipython3",
   "version": "3.8.5"
  }
 },
 "nbformat": 4,
 "nbformat_minor": 1
}
