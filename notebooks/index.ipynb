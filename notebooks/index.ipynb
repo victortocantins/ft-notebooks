{
 "cells": [
  {
   "cell_type": "markdown",
   "metadata": {},
   "source": [
    "<img src=\"../images/logo-fisica-da-Terra.png\" style=\"width: 20%; height: 20%\" align=\"right\"></img></a>\n",
    "\n",
    "# Física da Terra - Notebooks e Aplicativos\n",
    "\n",
    "Notebooks e aplicativos utilizados no curso de mfísica da Terra baseado nos projetos  **<a href=\"https://gpg.geosci.xyz\">gpg.geosci.xyz</a>** e  <a href=\"https://simpeg.xyz/\">SimPEG</a> e utilizando  **<a href=\"https://github.com/geoscixyz/geosci-labs/\">geosci-labs</a>** como um dos repositório dos códigos adaptados para as simulações da teoria e fundamentos da Física da Terra."
   ]
  },
  {
   "cell_type": "markdown",
   "metadata": {},
   "source": [
    "## Conteúdo\n",
    "\n",
    "### Física da Terra\n",
    "\n",
    "#### Gravitação\n",
    "Conceitos da Lei da Gravitação:\n",
    "- [aceleracao-grav.ipynb](./Gravitacao/aceleracao-grav.ipynb)\n",
    "\n"
   ]
  },
  {
   "cell_type": "markdown",
   "metadata": {},
   "source": [
    "#### <center>We love open source!</center>\n",
    "\n",
    "<center><a rel=\"license\" href=\"http://creativecommons.org/licenses/by/4.0/\"><img alt=\"Creative Commons License\" style=\"border-width:0\" width=60 src=\"https://i.creativecommons.org/l/by/4.0/88x31.png\" /></a> \n",
    "\n",
    "This work is licensed under a <a rel=\"license\" href=\"http://creativecommons.org/licenses/by/4.0/\">Creative Commons Attribution 4.0 International License</a>.</center>"
   ]
  }
 ],
 "metadata": {
  "anaconda-cloud": {},
  "kernelspec": {
   "display_name": "Python 3",
   "language": "python",
   "name": "python3"
  },
  "language_info": {
   "codemirror_mode": {
    "name": "ipython",
    "version": 3
   },
   "file_extension": ".py",
   "mimetype": "text/x-python",
   "name": "python",
   "nbconvert_exporter": "python",
   "pygments_lexer": "ipython3",
   "version": "3.8.5"
  }
 },
 "nbformat": 4,
 "nbformat_minor": 1
}
